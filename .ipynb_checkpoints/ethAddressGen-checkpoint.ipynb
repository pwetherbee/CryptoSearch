{
 "cells": [
  {
   "cell_type": "code",
   "execution_count": 83,
   "metadata": {},
   "outputs": [
    {
     "name": "stdout",
     "output_type": "stream",
     "text": [
      "{'status': '1', 'message': 'OK', 'result': '0'}\n"
     ]
    },
    {
     "data": {
      "text/plain": [
       "0.0"
      ]
     },
     "execution_count": 83,
     "metadata": {},
     "output_type": "execute_result"
    }
   ],
   "source": [
    "import os\n",
    "import pandas as pd\n",
    "import numpy as np\n",
    "import hashlib as hlib\n",
    "import requests as r\n",
    "import swifter\n",
    "import sha3, binascii\n",
    "from ecdsa import SigningKey, SECP256k1\n",
    "from cryptotools.BTC import PrivateKey, PublicKey\n",
    "from time import sleep\n",
    "from tqdm import tqdm, trange\n",
    "from IPython.display import clear_output\n",
    "\n",
    "coin = 'btc'\n",
    "\n",
    "seedpath = 'seedlists/'\n",
    "genpath = f'{coin}Addresses/'\n",
    "\n",
    "interval = 0.01\n",
    "def getAddressBalance(address):\n",
    "    key = 'TA1B32C3Z993QCVS4KPDS36S1Y94K3BJ49'\n",
    "    etherscanURL = f'https://api.etherscan.io/api?module=account&action=balance&address={address}&tag=latest&apikey={key}'\n",
    "    data = r.get(etherscanURL)\n",
    "    print(data.json())\n",
    "    balance = float(data.json()['result']) #returns balance in wei\n",
    "    balance = balance / 1000000000000000000 #convert wei to ethereum\n",
    "    sleep(interval)\n",
    "    return balance\n",
    "\n",
    "# df.loc[1] = ['bruh', '01359u31901922jkfsafj21-awq', '0xAb5801a7D398351b8bE11C439e05C5B3259aeC9B']\n",
    "# df.loc[2] = ['wowwie2138', '0qhjkqu31asggasssd21-ggss', '0xAb5801a7D398351b8bE11C439e05C5B3259aeC9B']\n",
    "addy = getAddress(getHash('💯'), 'eth')\n",
    "getAddressBalance(addy)"
   ]
  },
  {
   "cell_type": "code",
   "execution_count": 84,
   "metadata": {},
   "outputs": [
    {
     "data": {
      "application/vnd.jupyter.widget-view+json": {
       "model_id": "161d3baa01c3487c94193b55889ed8be",
       "version_major": 2,
       "version_minor": 0
      },
      "text/plain": [
       "Pandas Apply:   0%|          | 0/100000 [00:00<?, ?it/s]"
      ]
     },
     "metadata": {},
     "output_type": "display_data"
    },
    {
     "data": {
      "application/vnd.jupyter.widget-view+json": {
       "model_id": "926cdd26a54c45a3ad2469420043d4a9",
       "version_major": 2,
       "version_minor": 0
      },
      "text/plain": [
       "Pandas Apply:   0%|          | 0/100000 [00:00<?, ?it/s]"
      ]
     },
     "metadata": {},
     "output_type": "display_data"
    }
   ],
   "source": [
    "#create dataframe with raw password data\n",
    "ranges = (0, 100000) #10000000\n",
    "\n",
    "filename = 'rockyou.txt'\n",
    "\n",
    "\n",
    "with open(seedpath + filename, 'r',encoding='latin-1') as file:\n",
    "    passwords = file.read().split('\\n')[ranges[0]:ranges[1]]\n",
    "    \n",
    "\n",
    "    \n",
    "df = pd.DataFrame(passwords, columns = ['raw'])\n",
    "\n",
    "def getHash(text, hasher = 'sha256', encoder = 'utf-8'):\n",
    "    if hasher == 'sha256':\n",
    "        return hlib.sha256(text.encode(encoder)).hexdigest()\n",
    "    if hasher == 'md5':\n",
    "        return hlib.md5(text.encode(encoder)).hexdigest()\n",
    "    return \"ERROR\"\n",
    "\n",
    "def md5(text):\n",
    "    return getHash(text, 'md5')\n",
    "\n",
    "tqdm.pandas()\n",
    "def createHashList(data, hashFunct):\n",
    "    return data.swifter.apply(hashFunct)\n",
    "\n",
    "# df['intermediate'] = createHashList(df['raw'], getHash)\n",
    "df['private_key'] = createHashList(df['raw'], getHash)\n",
    "\n",
    "def getAddress(private_key, coin = coin):\n",
    "    if coin == 'eth':\n",
    "        keccak = sha3.keccak_256()\n",
    "        private_key = bytes(private_key, 'utf-8')\n",
    "        private_key = binascii.unhexlify(private_key)\n",
    "        private = SigningKey.from_string(private_key, curve=SECP256k1)\n",
    "        public = private.get_verifying_key().to_string()\n",
    "        keccak.update(public)\n",
    "        address = \"0x{}\".format(keccak.hexdigest()[24:])\n",
    "        return address\n",
    "    elif coin == 'btc':\n",
    "        keccak = sha3.keccak_256()\n",
    "        private_key = bytes(private_key, 'utf-8')\n",
    "        private_key = binascii.unhexlify(private_key)\n",
    "        private = SigningKey.from_string(private_key, curve=SECP256k1)\n",
    "        public = private.get_verifying_key().to_string(\"uncompressed\")\n",
    "        public = PublicKey.decode(public)\n",
    "        #P2PKH (1) for legacy, P2SH for new address (3), P2WPKH (bc) for advanced address\n",
    "        address = public.to_address('P2PKH') #\n",
    "        return address\n",
    "    return\n",
    "\n",
    "\n",
    "df['address'] = createHashList(df['private_key'], getAddress)\n",
    "df.head()\n",
    "\n",
    "df.to_csv(f'{genpath}{coin}addresses-{filename}-{ranges[1] // 1000}K.txt', index = False)"
   ]
  },
  {
   "cell_type": "code",
   "execution_count": null,
   "metadata": {},
   "outputs": [],
   "source": []
  }
 ],
 "metadata": {
  "kernelspec": {
   "display_name": "Python 3",
   "language": "python",
   "name": "python3"
  },
  "language_info": {
   "codemirror_mode": {
    "name": "ipython",
    "version": 3
   },
   "file_extension": ".py",
   "mimetype": "text/x-python",
   "name": "python",
   "nbconvert_exporter": "python",
   "pygments_lexer": "ipython3",
   "version": "3.7.7"
  }
 },
 "nbformat": 4,
 "nbformat_minor": 4
}
